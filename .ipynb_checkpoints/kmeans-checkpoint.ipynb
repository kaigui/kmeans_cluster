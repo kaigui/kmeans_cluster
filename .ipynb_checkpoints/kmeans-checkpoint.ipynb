{
 "cells": [
  {
   "cell_type": "code",
   "execution_count": 1,
   "id": "97893100-4539-4020-8ec1-2d4318da0ecd",
   "metadata": {},
   "outputs": [],
   "source": [
    "import pandas as pd\n",
    "import numpy as np\n",
    "import matplotlib.pyplot as plt\n",
    "import seaborn as sns\n",
    "from sklearn.metrics import r2_score, get_scorer\n",
    "from sklearn.linear_model import Lasso, Ridge, LassoCV,LinearRegression\n",
    "from sklearn.preprocessing import StandardScaler, PolynomialFeatures\n",
    "from sklearn.model_selection import KFold, RepeatedKFold, GridSearchCV, cross_validate, train_test_split\n",
    "from sklearn.datasets import load_iris\n",
    "from sklearn.linear_model import LogisticRegressionCV\n",
    "from sklearn.linear_model import LogisticRegression\n",
    "from sklearn.impute import SimpleImputer\n",
    "from sklearn.preprocessing import StandardScaler"
   ]
  },
  {
   "cell_type": "code",
   "execution_count": 2,
   "id": "0636ec44-4668-4aba-b43a-a3a1e3f81798",
   "metadata": {},
   "outputs": [],
   "source": [
    "data = pd.read_csv('ml-09-k-means-animals-dataset.csv')"
   ]
  },
  {
   "cell_type": "code",
   "execution_count": 3,
   "id": "71794333-c3e3-4151-ac0b-f891b403ebc8",
   "metadata": {},
   "outputs": [],
   "source": [
    "data.drop(columns=['Region', 'Stage', 'Comments', 'Individual ID', 'Date Egg'], inplace = True)"
   ]
  },
  {
   "cell_type": "code",
   "execution_count": 4,
   "id": "21475b35-2611-46b8-b5b2-f689a59ff1e7",
   "metadata": {},
   "outputs": [],
   "source": [
    "data.dropna(axis = 0, thresh = len(data.columns)/2, inplace=True)\n",
    "data.dropna(axis = 1, thresh = len(data.columns)/2, inplace=True)\n",
    "\n",
    "data.reset_index(drop = True, inplace = True)"
   ]
  },
  {
   "cell_type": "code",
   "execution_count": 5,
   "id": "6c7a8625-2ee9-45e0-bab5-ddfe42ddc76f",
   "metadata": {},
   "outputs": [],
   "source": [
    "continuous_columns = ['Delta 15 N (o/oo)', 'Delta 13 C (o/oo)']\n",
    "continuous_imputer = SimpleImputer(missing_values=np.nan, strategy='mean')\n",
    "continuous_imputed_df = pd.DataFrame(continuous_imputer.fit_transform(data[continuous_columns]), columns=continuous_columns)\n",
    "\n",
    "\n",
    "for col in continuous_columns:\n",
    "    data[col] = continuous_imputed_df[col]\n",
    "    \n",
    "data.replace('.' , None ,inplace = True)\n",
    "categorical_columns = ['Sex']\n",
    "categorical_imputer = SimpleImputer(missing_values=np.nan, strategy='most_frequent')\n",
    "categorical_imputed_df = pd.DataFrame(categorical_imputer.fit_transform(data[categorical_columns]), columns=categorical_columns)\n",
    "\n",
    "for col in categorical_columns:\n",
    "    data[col] = categorical_imputed_df[col]\n",
    "    "
   ]
  },
  {
   "cell_type": "code",
   "execution_count": 6,
   "id": "d0877580-c1b0-47b1-8770-086d852b9ec0",
   "metadata": {},
   "outputs": [],
   "source": [
    "breakout = pd.get_dummies(data['Clutch Completion'])\n",
    "breakout\n",
    "breakout.drop(columns='No', inplace = True)\n",
    "breakout.columns=['Clutch Completion - Yes']\n",
    "\n",
    "breakout = pd.get_dummies(data['Island'])\n",
    "breakout\n",
    "breakout.drop(columns='Torgersen', inplace = True)\n",
    "data = data.merge(breakout, how = 'inner', left_index = True, right_index = True)\n",
    "\n",
    "breakout = pd.get_dummies(data['Sex'])\n",
    "breakout\n",
    "breakout.drop(columns='MALE', inplace = True)\n",
    "data = data.merge(breakout, how = 'inner', left_index = True, right_index = True)\n"
   ]
  },
  {
   "cell_type": "code",
   "execution_count": 7,
   "id": "72ae70a9-355c-4df1-a592-4aaf028b9800",
   "metadata": {},
   "outputs": [
    {
     "data": {
      "text/html": [
       "<div>\n",
       "<style scoped>\n",
       "    .dataframe tbody tr th:only-of-type {\n",
       "        vertical-align: middle;\n",
       "    }\n",
       "\n",
       "    .dataframe tbody tr th {\n",
       "        vertical-align: top;\n",
       "    }\n",
       "\n",
       "    .dataframe thead th {\n",
       "        text-align: right;\n",
       "    }\n",
       "</style>\n",
       "<table border=\"1\" class=\"dataframe\">\n",
       "  <thead>\n",
       "    <tr style=\"text-align: right;\">\n",
       "      <th></th>\n",
       "      <th>Culmen Length (mm)</th>\n",
       "      <th>Culmen Depth (mm)</th>\n",
       "      <th>Flipper Length (mm)</th>\n",
       "      <th>Body Mass (g)</th>\n",
       "      <th>Delta 15 N (o/oo)</th>\n",
       "      <th>Delta 13 C (o/oo)</th>\n",
       "      <th>Biscoe</th>\n",
       "      <th>Dream</th>\n",
       "      <th>FEMALE</th>\n",
       "    </tr>\n",
       "  </thead>\n",
       "  <tbody>\n",
       "    <tr>\n",
       "      <th>0</th>\n",
       "      <td>39.1</td>\n",
       "      <td>18.7</td>\n",
       "      <td>181.0</td>\n",
       "      <td>3750.0</td>\n",
       "      <td>8.733382</td>\n",
       "      <td>-25.686292</td>\n",
       "      <td>0</td>\n",
       "      <td>0</td>\n",
       "      <td>0</td>\n",
       "    </tr>\n",
       "    <tr>\n",
       "      <th>1</th>\n",
       "      <td>39.5</td>\n",
       "      <td>17.4</td>\n",
       "      <td>186.0</td>\n",
       "      <td>3800.0</td>\n",
       "      <td>8.949560</td>\n",
       "      <td>-24.694540</td>\n",
       "      <td>0</td>\n",
       "      <td>0</td>\n",
       "      <td>1</td>\n",
       "    </tr>\n",
       "    <tr>\n",
       "      <th>2</th>\n",
       "      <td>40.3</td>\n",
       "      <td>18.0</td>\n",
       "      <td>195.0</td>\n",
       "      <td>3250.0</td>\n",
       "      <td>8.368210</td>\n",
       "      <td>-25.333020</td>\n",
       "      <td>0</td>\n",
       "      <td>0</td>\n",
       "      <td>1</td>\n",
       "    </tr>\n",
       "    <tr>\n",
       "      <th>3</th>\n",
       "      <td>36.7</td>\n",
       "      <td>19.3</td>\n",
       "      <td>193.0</td>\n",
       "      <td>3450.0</td>\n",
       "      <td>8.766510</td>\n",
       "      <td>-25.324260</td>\n",
       "      <td>0</td>\n",
       "      <td>0</td>\n",
       "      <td>1</td>\n",
       "    </tr>\n",
       "    <tr>\n",
       "      <th>4</th>\n",
       "      <td>39.3</td>\n",
       "      <td>20.6</td>\n",
       "      <td>190.0</td>\n",
       "      <td>3650.0</td>\n",
       "      <td>8.664960</td>\n",
       "      <td>-25.298050</td>\n",
       "      <td>0</td>\n",
       "      <td>0</td>\n",
       "      <td>0</td>\n",
       "    </tr>\n",
       "    <tr>\n",
       "      <th>...</th>\n",
       "      <td>...</td>\n",
       "      <td>...</td>\n",
       "      <td>...</td>\n",
       "      <td>...</td>\n",
       "      <td>...</td>\n",
       "      <td>...</td>\n",
       "      <td>...</td>\n",
       "      <td>...</td>\n",
       "      <td>...</td>\n",
       "    </tr>\n",
       "    <tr>\n",
       "      <th>337</th>\n",
       "      <td>47.2</td>\n",
       "      <td>13.7</td>\n",
       "      <td>214.0</td>\n",
       "      <td>4925.0</td>\n",
       "      <td>7.991840</td>\n",
       "      <td>-26.205380</td>\n",
       "      <td>1</td>\n",
       "      <td>0</td>\n",
       "      <td>1</td>\n",
       "    </tr>\n",
       "    <tr>\n",
       "      <th>338</th>\n",
       "      <td>46.8</td>\n",
       "      <td>14.3</td>\n",
       "      <td>215.0</td>\n",
       "      <td>4850.0</td>\n",
       "      <td>8.411510</td>\n",
       "      <td>-26.138320</td>\n",
       "      <td>1</td>\n",
       "      <td>0</td>\n",
       "      <td>1</td>\n",
       "    </tr>\n",
       "    <tr>\n",
       "      <th>339</th>\n",
       "      <td>50.4</td>\n",
       "      <td>15.7</td>\n",
       "      <td>222.0</td>\n",
       "      <td>5750.0</td>\n",
       "      <td>8.301660</td>\n",
       "      <td>-26.041170</td>\n",
       "      <td>1</td>\n",
       "      <td>0</td>\n",
       "      <td>0</td>\n",
       "    </tr>\n",
       "    <tr>\n",
       "      <th>340</th>\n",
       "      <td>45.2</td>\n",
       "      <td>14.8</td>\n",
       "      <td>212.0</td>\n",
       "      <td>5200.0</td>\n",
       "      <td>8.242460</td>\n",
       "      <td>-26.119690</td>\n",
       "      <td>1</td>\n",
       "      <td>0</td>\n",
       "      <td>1</td>\n",
       "    </tr>\n",
       "    <tr>\n",
       "      <th>341</th>\n",
       "      <td>49.9</td>\n",
       "      <td>16.1</td>\n",
       "      <td>213.0</td>\n",
       "      <td>5400.0</td>\n",
       "      <td>8.363900</td>\n",
       "      <td>-26.155310</td>\n",
       "      <td>1</td>\n",
       "      <td>0</td>\n",
       "      <td>0</td>\n",
       "    </tr>\n",
       "  </tbody>\n",
       "</table>\n",
       "<p>342 rows × 9 columns</p>\n",
       "</div>"
      ],
      "text/plain": [
       "     Culmen Length (mm)  Culmen Depth (mm)  Flipper Length (mm)  \\\n",
       "0                  39.1               18.7                181.0   \n",
       "1                  39.5               17.4                186.0   \n",
       "2                  40.3               18.0                195.0   \n",
       "3                  36.7               19.3                193.0   \n",
       "4                  39.3               20.6                190.0   \n",
       "..                  ...                ...                  ...   \n",
       "337                47.2               13.7                214.0   \n",
       "338                46.8               14.3                215.0   \n",
       "339                50.4               15.7                222.0   \n",
       "340                45.2               14.8                212.0   \n",
       "341                49.9               16.1                213.0   \n",
       "\n",
       "     Body Mass (g)  Delta 15 N (o/oo)  Delta 13 C (o/oo)  Biscoe  Dream  \\\n",
       "0           3750.0           8.733382         -25.686292       0      0   \n",
       "1           3800.0           8.949560         -24.694540       0      0   \n",
       "2           3250.0           8.368210         -25.333020       0      0   \n",
       "3           3450.0           8.766510         -25.324260       0      0   \n",
       "4           3650.0           8.664960         -25.298050       0      0   \n",
       "..             ...                ...                ...     ...    ...   \n",
       "337         4925.0           7.991840         -26.205380       1      0   \n",
       "338         4850.0           8.411510         -26.138320       1      0   \n",
       "339         5750.0           8.301660         -26.041170       1      0   \n",
       "340         5200.0           8.242460         -26.119690       1      0   \n",
       "341         5400.0           8.363900         -26.155310       1      0   \n",
       "\n",
       "     FEMALE  \n",
       "0         0  \n",
       "1         1  \n",
       "2         1  \n",
       "3         1  \n",
       "4         0  \n",
       "..      ...  \n",
       "337       1  \n",
       "338       1  \n",
       "339       0  \n",
       "340       1  \n",
       "341       0  \n",
       "\n",
       "[342 rows x 9 columns]"
      ]
     },
     "execution_count": 7,
     "metadata": {},
     "output_type": "execute_result"
    }
   ],
   "source": [
    "data.drop(columns = ['Island', 'Clutch Completion', 'Sex'], inplace = True, axis = 1)\n",
    "data"
   ]
  },
  {
   "cell_type": "code",
   "execution_count": 8,
   "id": "4f40c7e2-ada7-4ef8-8db0-c766b97c320a",
   "metadata": {},
   "outputs": [
    {
     "data": {
      "text/html": [
       "<div>\n",
       "<style scoped>\n",
       "    .dataframe tbody tr th:only-of-type {\n",
       "        vertical-align: middle;\n",
       "    }\n",
       "\n",
       "    .dataframe tbody tr th {\n",
       "        vertical-align: top;\n",
       "    }\n",
       "\n",
       "    .dataframe thead th {\n",
       "        text-align: right;\n",
       "    }\n",
       "</style>\n",
       "<table border=\"1\" class=\"dataframe\">\n",
       "  <thead>\n",
       "    <tr style=\"text-align: right;\">\n",
       "      <th></th>\n",
       "      <th>Culmen Length (mm)</th>\n",
       "      <th>Culmen Depth (mm)</th>\n",
       "      <th>Flipper Length (mm)</th>\n",
       "      <th>Body Mass (g)</th>\n",
       "      <th>Delta 15 N (o/oo)</th>\n",
       "      <th>Delta 13 C (o/oo)</th>\n",
       "      <th>Biscoe</th>\n",
       "      <th>Dream</th>\n",
       "      <th>FEMALE</th>\n",
       "    </tr>\n",
       "  </thead>\n",
       "  <tbody>\n",
       "    <tr>\n",
       "      <th>0</th>\n",
       "      <td>-0.884499</td>\n",
       "      <td>0.785449</td>\n",
       "      <td>-1.418347</td>\n",
       "      <td>-0.564142</td>\n",
       "      <td>0.000000</td>\n",
       "      <td>0.000000</td>\n",
       "      <td>-0.976875</td>\n",
       "      <td>-0.754193</td>\n",
       "      <td>-0.965507</td>\n",
       "    </tr>\n",
       "    <tr>\n",
       "      <th>1</th>\n",
       "      <td>-0.811126</td>\n",
       "      <td>0.126188</td>\n",
       "      <td>-1.062250</td>\n",
       "      <td>-0.501703</td>\n",
       "      <td>0.399456</td>\n",
       "      <td>1.271627</td>\n",
       "      <td>-0.976875</td>\n",
       "      <td>-0.754193</td>\n",
       "      <td>1.035725</td>\n",
       "    </tr>\n",
       "    <tr>\n",
       "      <th>2</th>\n",
       "      <td>-0.664380</td>\n",
       "      <td>0.430462</td>\n",
       "      <td>-0.421277</td>\n",
       "      <td>-1.188532</td>\n",
       "      <td>-0.674767</td>\n",
       "      <td>0.452966</td>\n",
       "      <td>-0.976875</td>\n",
       "      <td>-0.754193</td>\n",
       "      <td>1.035725</td>\n",
       "    </tr>\n",
       "    <tr>\n",
       "      <th>3</th>\n",
       "      <td>-1.324737</td>\n",
       "      <td>1.089724</td>\n",
       "      <td>-0.563715</td>\n",
       "      <td>-0.938776</td>\n",
       "      <td>0.061215</td>\n",
       "      <td>0.464198</td>\n",
       "      <td>-0.976875</td>\n",
       "      <td>-0.754193</td>\n",
       "      <td>1.035725</td>\n",
       "    </tr>\n",
       "    <tr>\n",
       "      <th>4</th>\n",
       "      <td>-0.847812</td>\n",
       "      <td>1.748985</td>\n",
       "      <td>-0.777373</td>\n",
       "      <td>-0.689020</td>\n",
       "      <td>-0.126430</td>\n",
       "      <td>0.497804</td>\n",
       "      <td>-0.976875</td>\n",
       "      <td>-0.754193</td>\n",
       "      <td>-0.965507</td>\n",
       "    </tr>\n",
       "    <tr>\n",
       "      <th>...</th>\n",
       "      <td>...</td>\n",
       "      <td>...</td>\n",
       "      <td>...</td>\n",
       "      <td>...</td>\n",
       "      <td>...</td>\n",
       "      <td>...</td>\n",
       "      <td>...</td>\n",
       "      <td>...</td>\n",
       "      <td>...</td>\n",
       "    </tr>\n",
       "    <tr>\n",
       "      <th>337</th>\n",
       "      <td>0.601305</td>\n",
       "      <td>-1.750171</td>\n",
       "      <td>0.931890</td>\n",
       "      <td>0.903175</td>\n",
       "      <td>-1.370226</td>\n",
       "      <td>-0.665577</td>\n",
       "      <td>1.023672</td>\n",
       "      <td>-0.754193</td>\n",
       "      <td>1.035725</td>\n",
       "    </tr>\n",
       "    <tr>\n",
       "      <th>338</th>\n",
       "      <td>0.527932</td>\n",
       "      <td>-1.445897</td>\n",
       "      <td>1.003109</td>\n",
       "      <td>0.809516</td>\n",
       "      <td>-0.594757</td>\n",
       "      <td>-0.579592</td>\n",
       "      <td>1.023672</td>\n",
       "      <td>-0.754193</td>\n",
       "      <td>1.035725</td>\n",
       "    </tr>\n",
       "    <tr>\n",
       "      <th>339</th>\n",
       "      <td>1.188289</td>\n",
       "      <td>-0.735923</td>\n",
       "      <td>1.501644</td>\n",
       "      <td>1.933419</td>\n",
       "      <td>-0.797739</td>\n",
       "      <td>-0.455026</td>\n",
       "      <td>1.023672</td>\n",
       "      <td>-0.754193</td>\n",
       "      <td>-0.965507</td>\n",
       "    </tr>\n",
       "    <tr>\n",
       "      <th>340</th>\n",
       "      <td>0.234440</td>\n",
       "      <td>-1.192335</td>\n",
       "      <td>0.789451</td>\n",
       "      <td>1.246590</td>\n",
       "      <td>-0.907129</td>\n",
       "      <td>-0.555705</td>\n",
       "      <td>1.023672</td>\n",
       "      <td>-0.754193</td>\n",
       "      <td>1.035725</td>\n",
       "    </tr>\n",
       "    <tr>\n",
       "      <th>341</th>\n",
       "      <td>1.096572</td>\n",
       "      <td>-0.533073</td>\n",
       "      <td>0.860670</td>\n",
       "      <td>1.496346</td>\n",
       "      <td>-0.682731</td>\n",
       "      <td>-0.601377</td>\n",
       "      <td>1.023672</td>\n",
       "      <td>-0.754193</td>\n",
       "      <td>-0.965507</td>\n",
       "    </tr>\n",
       "  </tbody>\n",
       "</table>\n",
       "<p>342 rows × 9 columns</p>\n",
       "</div>"
      ],
      "text/plain": [
       "     Culmen Length (mm)  Culmen Depth (mm)  Flipper Length (mm)  \\\n",
       "0             -0.884499           0.785449            -1.418347   \n",
       "1             -0.811126           0.126188            -1.062250   \n",
       "2             -0.664380           0.430462            -0.421277   \n",
       "3             -1.324737           1.089724            -0.563715   \n",
       "4             -0.847812           1.748985            -0.777373   \n",
       "..                  ...                ...                  ...   \n",
       "337            0.601305          -1.750171             0.931890   \n",
       "338            0.527932          -1.445897             1.003109   \n",
       "339            1.188289          -0.735923             1.501644   \n",
       "340            0.234440          -1.192335             0.789451   \n",
       "341            1.096572          -0.533073             0.860670   \n",
       "\n",
       "     Body Mass (g)  Delta 15 N (o/oo)  Delta 13 C (o/oo)    Biscoe     Dream  \\\n",
       "0        -0.564142           0.000000           0.000000 -0.976875 -0.754193   \n",
       "1        -0.501703           0.399456           1.271627 -0.976875 -0.754193   \n",
       "2        -1.188532          -0.674767           0.452966 -0.976875 -0.754193   \n",
       "3        -0.938776           0.061215           0.464198 -0.976875 -0.754193   \n",
       "4        -0.689020          -0.126430           0.497804 -0.976875 -0.754193   \n",
       "..             ...                ...                ...       ...       ...   \n",
       "337       0.903175          -1.370226          -0.665577  1.023672 -0.754193   \n",
       "338       0.809516          -0.594757          -0.579592  1.023672 -0.754193   \n",
       "339       1.933419          -0.797739          -0.455026  1.023672 -0.754193   \n",
       "340       1.246590          -0.907129          -0.555705  1.023672 -0.754193   \n",
       "341       1.496346          -0.682731          -0.601377  1.023672 -0.754193   \n",
       "\n",
       "       FEMALE  \n",
       "0   -0.965507  \n",
       "1    1.035725  \n",
       "2    1.035725  \n",
       "3    1.035725  \n",
       "4   -0.965507  \n",
       "..        ...  \n",
       "337  1.035725  \n",
       "338  1.035725  \n",
       "339 -0.965507  \n",
       "340  1.035725  \n",
       "341 -0.965507  \n",
       "\n",
       "[342 rows x 9 columns]"
      ]
     },
     "execution_count": 8,
     "metadata": {},
     "output_type": "execute_result"
    }
   ],
   "source": [
    "sc = StandardScaler()\n",
    "data_scaled = sc.fit_transform(data)\n",
    "data_scaled = pd.DataFrame(data = data_scaled, columns = data.columns)\n",
    "data_scaled"
   ]
  },
  {
   "cell_type": "code",
   "execution_count": 9,
   "id": "587ba606-20d8-4d47-8d85-5c7bab7d3d99",
   "metadata": {},
   "outputs": [],
   "source": [
    "from sklearn.model_selection import train_test_split\n",
    "\n",
    "X_train, X_test = train_test_split(data, test_size=0.3, random_state=0)\n",
    "\n"
   ]
  },
  {
   "cell_type": "code",
   "execution_count": 10,
   "id": "1a50bc24-5fbc-493a-8ae7-10383b0888d3",
   "metadata": {},
   "outputs": [],
   "source": [
    "X_test.reset_index(drop='True', inplace=True)"
   ]
  },
  {
   "cell_type": "code",
   "execution_count": 11,
   "id": "41132d0a-18a5-45f3-8ada-2ece1ede5555",
   "metadata": {},
   "outputs": [],
   "source": [
    "from sklearn.cluster import KMeans\n",
    "import numpy as np\n",
    "\n",
    "kmeans = KMeans(n_clusters=2, random_state=0).fit(X_train)\n",
    "\n",
    "kmeans.labels_\n",
    "kmeans.cluster_centers_\n",
    "label = kmeans.predict(X_test)\n",
    "\n",
    "predSeries = pd.Series(label)\n",
    "df2 = X_test.merge(predSeries.rename('Target'), how='inner', left_index=True, right_index=True)"
   ]
  },
  {
   "cell_type": "code",
   "execution_count": 12,
   "id": "6e5ff346-cff3-4b56-ab6c-0e892f3c26d5",
   "metadata": {},
   "outputs": [
    {
     "data": {
      "image/png": "[encoded data removed]",
      "text/plain": [
       "<Figure size 432x288 with 1 Axes>"
      ]
     },
     "metadata": {
      "needs_background": "light"
     },
     "output_type": "display_data"
    }
   ],
   "source": [
    "from sklearn.decomposition import PCA\n",
    "import pylab as pl\n",
    "pca = PCA(n_components=2).fit(X_test)\n",
    "pca_2d = pca.transform(X_test)\n",
    "\n",
    "clusters = pca.transform(kmeans.cluster_centers_)\n",
    "\n",
    "\n",
    "\n",
    "for i in range(0, len(clusters)):\n",
    "        c0 = pl.scatter(clusters[i,0],pca_2d[i,1],c='#1f77b4', marker='X')  \n",
    "        \n",
    "for i in range(0, pca_2d.shape[0]):\n",
    "    if df2.Target.iloc[i] == 0:\n",
    "        c1 = pl.scatter(pca_2d[i,0],pca_2d[i,1],c='#ff7f0e', marker='+')\n",
    "    elif df2.Target.iloc[i] == 1:\n",
    "        c2 = pl.scatter(pca_2d[i,0],pca_2d[i,1],c='#d62728',marker='o')\n",
    " \n",
    "pl.legend([c1, c2], ['1', '2'])\n",
    "pl.title(' Data with 2 clusters')\n",
    "pl.show()"
   ]
  },
  {
   "cell_type": "code",
   "execution_count": 13,
   "id": "a15a0997-6125-4a1f-9092-abc6aa178799",
   "metadata": {},
   "outputs": [],
   "source": [
    "kmeans = KMeans(n_clusters=3, random_state=0).fit(X_train)\n",
    "\n",
    "label= kmeans.predict(X_test)\n",
    "\n",
    "predSeries = pd.Series(label)\n",
    "df2 = X_test.merge(predSeries.rename('Target'), how='inner', left_index=True, right_index=True)\n"
   ]
  },
  {
   "cell_type": "code",
   "execution_count": 14,
   "id": "f671e596-1677-4401-ba60-f05a8b9fd9a6",
   "metadata": {},
   "outputs": [
    {
     "data": {
      "image/png": "[encoded data removed]",
      "text/plain": [
       "<Figure size 432x288 with 1 Axes>"
      ]
     },
     "metadata": {
      "needs_background": "light"
     },
     "output_type": "display_data"
    }
   ],
   "source": [
    "clusters = pca.transform(kmeans.cluster_centers_)\n",
    "\n",
    "for i in range(0, len(clusters)):\n",
    "        c0 = pl.scatter(clusters[i,0],pca_2d[i,1],c='#1f77b4', marker='X')  \n",
    "        \n",
    "for i in range(0, pca_2d.shape[0]):\n",
    "    if df2.Target.iloc[i] == 0:\n",
    "        c1 = pl.scatter(pca_2d[i,0],pca_2d[i,1],c='#ff7f0e', marker='+')\n",
    "    elif df2.Target.iloc[i] == 1:\n",
    "        c2 = pl.scatter(pca_2d[i,0],pca_2d[i,1],c='#d62728',marker='o')\n",
    "    elif df2.Target.iloc[i] == 2:\n",
    "        c3 = pl.scatter(pca_2d[i,0],pca_2d[i,1],c='#8c564b',marker='1')\n",
    " \n",
    "pl.legend([c1, c2, c3], ['1', '2', '3'])\n",
    "pl.title(' Data with 3 clusters')\n",
    "pl.show()"
   ]
  },
  {
   "cell_type": "code",
   "execution_count": 15,
   "id": "c556c215-ac6e-47ec-ad22-351ff8231f37",
   "metadata": {},
   "outputs": [],
   "source": [
    "kmeans = KMeans(n_clusters=4, random_state=0).fit(X_train)\n",
    "\n",
    "label= kmeans.predict(X_test)\n",
    "\n",
    "predSeries = pd.Series(label)\n",
    "df2 = X_test.merge(predSeries.rename('Target'), how='inner', left_index=True, right_index=True)\n"
   ]
  },
  {
   "cell_type": "code",
   "execution_count": 16,
   "id": "4e5b5cf0-9d68-435e-95fa-d73692e44591",
   "metadata": {},
   "outputs": [
    {
     "data": {
      "image/png": "[encoded data removed]",
      "text/plain": [
       "<Figure size 432x288 with 1 Axes>"
      ]
     },
     "metadata": {
      "needs_background": "light"
     },
     "output_type": "display_data"
    }
   ],
   "source": [
    "clusters = pca.transform(kmeans.cluster_centers_)\n",
    "\n",
    "for i in range(0, len(clusters)):\n",
    "        c0 = pl.scatter(clusters[i,0],pca_2d[i,1],c='#1f77b4', marker='X')  \n",
    "        \n",
    "for i in range(0, pca_2d.shape[0]):\n",
    "    if df2.Target.iloc[i] == 0:\n",
    "        c1 = pl.scatter(pca_2d[i,0],pca_2d[i,1],c='#ff7f0e', marker='+')\n",
    "    elif df2.Target.iloc[i] == 1:\n",
    "        c2 = pl.scatter(pca_2d[i,0],pca_2d[i,1],c='#d62728',marker='o')\n",
    "    elif df2.Target.iloc[i] == 2:\n",
    "        c3 = pl.scatter(pca_2d[i,0],pca_2d[i,1],c='#8c564b',marker='1')\n",
    "    elif df2.Target.iloc[i] == 3:\n",
    "        c4 = pl.scatter(pca_2d[i,0],pca_2d[i,1],c='#bcbd22',marker='2')\n",
    " \n",
    "pl.legend([c1, c2, c3, c4], ['1', '2', '3', '4'])\n",
    "pl.title(' Data with 4 clusters')\n",
    "pl.show()"
   ]
  },
  {
   "cell_type": "code",
   "execution_count": 17,
   "id": "13a1c0fe-63d8-443f-8959-7037159857ce",
   "metadata": {},
   "outputs": [],
   "source": [
    "kmeans = KMeans(n_clusters=5, random_state=0).fit(X_train)\n",
    "\n",
    "label= kmeans.predict(X_test)\n",
    "\n",
    "predSeries = pd.Series(label)\n",
    "df2 = X_test.merge(predSeries.rename('Target'), how='inner', left_index=True, right_index=True)\n"
   ]
  },
  {
   "cell_type": "code",
   "execution_count": 18,
   "id": "16cc5e24-0fc5-4d83-885d-829516b5ec50",
   "metadata": {},
   "outputs": [
    {
     "data": {
      "image/png": "[encoded data removed]",
      "text/plain": [
       "<Figure size 432x288 with 1 Axes>"
      ]
     },
     "metadata": {
      "needs_background": "light"
     },
     "output_type": "display_data"
    }
   ],
   "source": [
    "clusters = pca.transform(kmeans.cluster_centers_)\n",
    "\n",
    "for i in range(0, len(clusters)):\n",
    "        c0 = pl.scatter(clusters[i,0],pca_2d[i,1],c='#1f77b4', marker='X')  \n",
    "        \n",
    "for i in range(0, pca_2d.shape[0]):\n",
    "    if df2.Target.iloc[i] == 0:\n",
    "        c1 = pl.scatter(pca_2d[i,0],pca_2d[i,1],c='#ff7f0e', marker='+')\n",
    "    elif df2.Target.iloc[i] == 1:\n",
    "        c2 = pl.scatter(pca_2d[i,0],pca_2d[i,1],c='#d62728',marker='o')\n",
    "    elif df2.Target.iloc[i] == 2:\n",
    "        c3 = pl.scatter(pca_2d[i,0],pca_2d[i,1],c='#8c564b',marker='1')\n",
    "    elif df2.Target.iloc[i] == 3:\n",
    "        c4 = pl.scatter(pca_2d[i,0],pca_2d[i,1],c='#bcbd22',marker='2')\n",
    "    elif df2.Target.iloc[i] == 4:\n",
    "        c5 = pl.scatter(pca_2d[i,0],pca_2d[i,1],c='#7f7f7f',marker='3')\n",
    " \n",
    " \n",
    "pl.legend([c1, c2, c3, c4, c5], ['1', '2', '3', '4', '5'])\n",
    "pl.title(' Data with 5 clusters')\n",
    "pl.show()"
   ]
  },
  {
   "cell_type": "code",
   "execution_count": 19,
   "id": "c97c1a44-845d-491f-b62c-ac2c5c7584bb",
   "metadata": {},
   "outputs": [
    {
     "data": {
      "text/plain": [
       "array([2, 5, 2, 4, 2, 2, 2, 1, 5, 3, 3, 1, 3, 4, 1, 3, 2, 4, 4, 3, 5, 1,\n",
       "       2, 5, 1, 3, 3, 2, 5, 5, 1, 4, 4, 4, 4, 1, 2, 2, 0, 4, 3, 1, 4, 2,\n",
       "       4, 1, 2, 1, 3, 0, 2, 4, 2, 4, 0, 4, 0, 1, 1, 0, 1, 1, 1, 1, 3, 1,\n",
       "       3, 4, 4, 0, 4, 4, 4, 4, 4, 1, 2, 3, 3, 4, 3, 4, 2, 1, 5, 4, 5, 3,\n",
       "       1, 5, 1, 1, 1, 4, 2, 1, 3, 2, 2, 4, 0, 2, 1])"
      ]
     },
     "execution_count": 19,
     "metadata": {},
     "output_type": "execute_result"
    }
   ],
   "source": [
    "kmeans = KMeans(n_clusters=6, random_state=0).fit(X_train)\n",
    "\n",
    "kmeans.labels_\n",
    "kmeans.cluster_centers_\n",
    "kmeans.predict(X_test)\n",
    "\n"
   ]
  },
  {
   "cell_type": "code",
   "execution_count": 20,
   "id": "f177a2a8-d380-4449-a968-3da18f68050b",
   "metadata": {},
   "outputs": [
    {
     "data": {
      "text/plain": [
       "array([6, 3, 2, 6, 2, 2, 2, 1, 3, 1, 1, 5, 1, 6, 1, 4, 6, 6, 6, 4, 3, 5,\n",
       "       2, 3, 5, 4, 4, 2, 3, 3, 1, 6, 6, 6, 6, 1, 2, 2, 0, 5, 4, 5, 5, 2,\n",
       "       6, 5, 3, 1, 1, 0, 2, 5, 6, 6, 0, 6, 0, 1, 1, 0, 5, 5, 5, 5, 1, 1,\n",
       "       4, 5, 5, 0, 5, 6, 5, 6, 6, 5, 2, 4, 1, 6, 4, 6, 2, 1, 3, 6, 3, 4,\n",
       "       5, 3, 5, 5, 1, 6, 2, 5, 1, 2, 2, 6, 0, 6, 1])"
      ]
     },
     "execution_count": 20,
     "metadata": {},
     "output_type": "execute_result"
    }
   ],
   "source": [
    "kmeans = KMeans(n_clusters=7, random_state=0).fit(X_train)\n",
    "\n",
    "kmeans.labels_\n",
    "kmeans.cluster_centers_\n",
    "kmeans.predict(X_test)\n",
    "\n"
   ]
  },
  {
   "cell_type": "code",
   "execution_count": 21,
   "id": "017db7ad-73d7-4b13-8d37-a7d8505ed7dc",
   "metadata": {},
   "outputs": [
    {
     "data": {
      "text/plain": [
       "array([2, 1, 2, 4, 2, 2, 2, 6, 5, 6, 6, 0, 6, 4, 6, 3, 2, 4, 4, 3, 5, 0,\n",
       "       2, 1, 0, 3, 3, 2, 1, 1, 6, 4, 4, 4, 4, 6, 2, 2, 7, 4, 3, 0, 4, 2,\n",
       "       4, 0, 5, 6, 6, 1, 2, 0, 2, 4, 7, 4, 1, 6, 6, 1, 0, 0, 0, 0, 6, 6,\n",
       "       3, 0, 4, 7, 0, 4, 0, 4, 4, 0, 2, 3, 6, 4, 3, 4, 2, 6, 5, 4, 1, 3,\n",
       "       0, 1, 0, 0, 6, 4, 2, 0, 6, 5, 2, 4, 1, 2, 0])"
      ]
     },
     "execution_count": 21,
     "metadata": {},
     "output_type": "execute_result"
    }
   ],
   "source": [
    "kmeans = KMeans(n_clusters=8, random_state=0).fit(X_train)\n",
    "\n",
    "kmeans.labels_\n",
    "kmeans.cluster_centers_\n",
    "kmeans.predict(X_test)\n",
    "\n"
   ]
  },
  {
   "cell_type": "code",
   "execution_count": 22,
   "id": "44e533c5-2897-4dad-976b-8d8120a77407",
   "metadata": {},
   "outputs": [
    {
     "data": {
      "text/plain": [
       "array([7, 8, 7, 7, 1, 1, 1, 0, 8, 3, 3, 0, 3, 7, 3, 6, 7, 5, 7, 3, 8, 5,\n",
       "       1, 2, 0, 6, 3, 1, 2, 2, 0, 7, 5, 5, 5, 3, 1, 7, 2, 5, 6, 0, 5, 1,\n",
       "       7, 5, 8, 3, 3, 2, 1, 5, 7, 7, 4, 7, 2, 3, 3, 2, 0, 0, 5, 0, 3, 3,\n",
       "       6, 5, 5, 4, 5, 7, 5, 5, 7, 0, 1, 6, 3, 7, 6, 7, 1, 0, 8, 7, 8, 6,\n",
       "       0, 2, 0, 0, 0, 7, 1, 0, 3, 1, 1, 5, 2, 7, 0])"
      ]
     },
     "execution_count": 22,
     "metadata": {},
     "output_type": "execute_result"
    }
   ],
   "source": [
    "kmeans = KMeans(n_clusters=9, random_state=0).fit(X_train)\n",
    "\n",
    "kmeans.labels_\n",
    "kmeans.cluster_centers_\n",
    "kmeans.predict(X_test)\n",
    "\n"
   ]
  },
  {
   "cell_type": "code",
   "execution_count": 23,
   "id": "7d33c648-ba5f-49a5-9c39-158f4089758e",
   "metadata": {},
   "outputs": [
    {
     "name": "stderr",
     "output_type": "stream",
     "text": [
      "C:\\Users\\kaigu\\anaconda3\\lib\\site-packages\\sklearn\\cluster\\_kmeans.py:881: UserWarning: KMeans is known to have a memory leak on Windows with MKL, when there are less chunks than available threads. You can avoid it by setting the environment variable OMP_NUM_THREADS=1.\n",
      "  warnings.warn(\n"
     ]
    },
    {
     "data": {
      "image/png": "[encoded data removed]",
      "text/plain": [
       "<Figure size 432x288 with 1 Axes>"
      ]
     },
     "metadata": {
      "needs_background": "light"
     },
     "output_type": "display_data"
    }
   ],
   "source": [
    "Sum_of_squared_distances = []\n",
    "K = range(1,10)\n",
    "for k in K:\n",
    "    km = KMeans(n_clusters=k, random_state=0)\n",
    "    km = km.fit(X_train)\n",
    "    Sum_of_squared_distances.append(km.inertia_)\n",
    "    \n",
    "plt.plot(K, Sum_of_squared_distances, 'bx-')\n",
    "plt.xlabel('k')\n",
    "plt.ylabel('Sum_of_squared_distances')\n",
    "plt.title('Elbow Method For Optimal k')\n",
    "plt.show()"
   ]
  },
  {
   "cell_type": "code",
   "execution_count": null,
   "id": "757a2e30-78d4-42ba-9c72-cd3e19a2a458",
   "metadata": {},
   "outputs": [],
   "source": []
  }
 ],
 "metadata": {
  "kernelspec": {
   "display_name": "Python 3",
   "language": "python",
   "name": "python3"
  },
  "language_info": {
   "codemirror_mode": {
    "name": "ipython",
    "version": 3
   },
   "file_extension": ".py",
   "mimetype": "text/x-python",
   "name": "python",
   "nbconvert_exporter": "python",
   "pygments_lexer": "ipython3",
   "version": "3.8.8"
  }
 },
 "nbformat": 4,
 "nbformat_minor": 5
}
